{
 "cells": [
  {
   "cell_type": "code",
   "execution_count": 1,
   "metadata": {},
   "outputs": [],
   "source": [
    "import cv2 as cv\n",
    "import numpy as np\n",
    "import datetime\n",
    "import random as rng\n",
    "\n",
    "from matplotlib import pyplot as plt\n",
    "from sklearn.cluster import KMeans\n",
    "from scipy import ndimage as ndi\n",
    "from skimage.segmentation import watershed\n",
    "from skimage.feature import peak_local_max\n",
    "import imutils\n",
    "from skimage.measure import regionprops\n",
    "import pandas as pd\n",
    "from LaminaFilterImage import *\n",
    "from LaminaCropImage import *\n",
    "from LaminaTransCorImage import *\n",
    "from LaminaSeg import *\n",
    "from LaminaSeparaObj import *\n",
    "from LaminaParametros import *"
   ]
  },
  {
   "cell_type": "code",
   "execution_count": 2,
   "metadata": {},
   "outputs": [],
   "source": [
    "img = cv.imread(\"CROP_Idaho.tif\", cv.COLOR_BGR2RGB)\n",
    "flagprint = 0\n",
    "if (flagprint==1):\n",
    "    plt.figure(figsize = (20,10))\n",
    "    plt.imshow(cv.cvtColor(img, cv.COLOR_BGR2RGB))"
   ]
  },
  {
   "cell_type": "code",
   "execution_count": 3,
   "metadata": {},
   "outputs": [],
   "source": [
    "typefilter = 'nonlocalmeans' #median/gaussian/nonlocalmeans*/all\n",
    "flagprint = 0\n",
    "kernel = 5\n",
    "median_filtered_image = LaminaFilterImage(img, typefilter, kernel, flagprint)"
   ]
  },
  {
   "cell_type": "code",
   "execution_count": 4,
   "metadata": {},
   "outputs": [],
   "source": [
    "size = 0 #valor do crop da imagem\n",
    "if (size > 0):\n",
    "    flagprint = 1\n",
    "    resized_image = LaminaCropImage(median_filtered_image, size, flagprint)\n",
    "else:\n",
    "    resized_image = median_filtered_image        "
   ]
  },
  {
   "cell_type": "code",
   "execution_count": 5,
   "metadata": {},
   "outputs": [],
   "source": [
    "color_space = 'rgba'  #gray, ycrb,ycc, lab, xyz, hls, rgba\n",
    "flagprint = 0\n",
    "image_channel_settled = LaminaTransCorImage(resized_image, color_space, flagprint)"
   ]
  },
  {
   "cell_type": "code",
   "execution_count": 6,
   "metadata": {},
   "outputs": [],
   "source": [
    "flagprint=0\n",
    "n_clusters = 2\n",
    "orig_kmeans_image, k_means_image = LaminaSeg(image_channel_settled,resized_image,n_clusters,flagprint)        "
   ]
  },
  {
   "cell_type": "code",
   "execution_count": 7,
   "metadata": {},
   "outputs": [],
   "source": [
    "#Faz a mudança entre pixels (0 para 255 e 255 para 0) -> Apenas para analise envolvendo o grão\n",
    "conv = 0\n",
    "if (conv == 1):\n",
    "    #k_means_image = cv.bitwise_not(k_means_image)\n",
    "    flagprint = 1\n",
    "    if (flagprint==1):\n",
    "        plt.figure(figsize = (15,8))\n",
    "        plt.imshow(k_means_image,'gray')"
   ]
  },
  {
   "cell_type": "code",
   "execution_count": 8,
   "metadata": {},
   "outputs": [],
   "source": [
    "flagprint = 0\n",
    "dist = 'edt' #ou cdt\n",
    "kernel = 20\n",
    "image, labels, distance = LaminaSeparaObj (k_means_image, kernel, dist, flagprint,image_channel_settled)"
   ]
  },
  {
   "cell_type": "code",
   "execution_count": 9,
   "metadata": {},
   "outputs": [],
   "source": [
    "#df = pd.DataFrame(entries, columns= ['label', 'area','perimeter','eccentricity','solidity', 'orientation','bbox_area','extent', 'centroid_y', 'centroid_x'])\n",
    "df = LaminaParametros(labels)"
   ]
  },
  {
   "cell_type": "code",
   "execution_count": null,
   "metadata": {},
   "outputs": [],
   "source": []
  },
  {
   "cell_type": "code",
   "execution_count": null,
   "metadata": {},
   "outputs": [],
   "source": []
  }
 ],
 "metadata": {
  "kernelspec": {
   "display_name": "Python 3",
   "language": "python",
   "name": "python3"
  },
  "language_info": {
   "codemirror_mode": {
    "name": "ipython",
    "version": 3
   },
   "file_extension": ".py",
   "mimetype": "text/x-python",
   "name": "python",
   "nbconvert_exporter": "python",
   "pygments_lexer": "ipython3",
   "version": "3.7.6"
  }
 },
 "nbformat": 4,
 "nbformat_minor": 4
}
